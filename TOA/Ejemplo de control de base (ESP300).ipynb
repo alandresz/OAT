{
 "cells": [
  {
   "cell_type": "markdown",
   "id": "ad9f73f3",
   "metadata": {},
   "source": [
    "## Creación del objeto base"
   ]
  },
  {
   "cell_type": "code",
   "execution_count": 1,
   "id": "136225dc",
   "metadata": {},
   "outputs": [],
   "source": [
    "from rotmcESP import *\n",
    "\n",
    "ESP300 = RotmcESP('ASRL/dev/ttyUSB0::INSTR')"
   ]
  },
  {
   "cell_type": "markdown",
   "id": "7821e5e3",
   "metadata": {},
   "source": [
    "## Configuracion del controlador del motor y rotación"
   ]
  },
  {
   "cell_type": "code",
   "execution_count": 8,
   "id": "fe32ab26",
   "metadata": {},
   "outputs": [],
   "source": [
    "ESP300.config(axis = 2,\n",
    "              vel = 15,\n",
    "              direction = '+',\n",
    "              setOrigin = True)\n",
    "\n",
    "currPostion = ESP300(reference = 'REL', rotAngle = 2)"
   ]
  },
  {
   "cell_type": "code",
   "execution_count": 74,
   "id": "38b6c145",
   "metadata": {},
   "outputs": [
    {
     "name": "stdout",
     "output_type": "stream",
     "text": [
      "0.46\n"
     ]
    }
   ],
   "source": [
    "print(currPostion)"
   ]
  },
  {
   "cell_type": "code",
   "execution_count": null,
   "id": "2156537e-f176-4e7d-aa64-00f07691aeff",
   "metadata": {},
   "outputs": [],
   "source": []
  },
  {
   "cell_type": "code",
   "execution_count": null,
   "id": "5b8a14e2-3093-4ecd-a281-1236ee4bac4d",
   "metadata": {},
   "outputs": [],
   "source": []
  }
 ],
 "metadata": {
  "kernelspec": {
   "display_name": "Python 3 (ipykernel)",
   "language": "python",
   "name": "python3"
  },
  "language_info": {
   "codemirror_mode": {
    "name": "ipython",
    "version": 3
   },
   "file_extension": ".py",
   "mimetype": "text/x-python",
   "name": "python",
   "nbconvert_exporter": "python",
   "pygments_lexer": "ipython3",
   "version": "3.11.2"
  }
 },
 "nbformat": 4,
 "nbformat_minor": 5
}
